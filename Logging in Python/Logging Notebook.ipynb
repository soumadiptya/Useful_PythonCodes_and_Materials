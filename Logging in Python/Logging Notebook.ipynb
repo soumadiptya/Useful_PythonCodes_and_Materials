{
 "cells": [
  {
   "cell_type": "code",
   "execution_count": 1,
   "metadata": {},
   "outputs": [],
   "source": [
    "#%% Import modules\n",
    "import logging"
   ]
  },
  {
   "cell_type": "code",
   "execution_count": 2,
   "metadata": {},
   "outputs": [],
   "source": [
    "#%% Helper Functions\n",
    "def add(x,y):\n",
    "    'Add function'\n",
    "    return x+ y\n",
    "\n",
    "def subtract(x,y):\n",
    "    'Subtract Function'\n",
    "    return x - y\n",
    "\n",
    "def multiply(x,y):\n",
    "    'Multiply Function'\n",
    "    return x * y\n",
    "\n",
    "def divide(x,y):\n",
    "    'Divide Function'\n",
    "    return x/y"
   ]
  },
  {
   "cell_type": "code",
   "execution_count": 3,
   "metadata": {},
   "outputs": [
    {
     "name": "stdout",
     "output_type": "stream",
     "text": [
      "Add 10 + 5 = 15\n",
      "Subtract 10 - 5 = 5\n",
      "Multiply 10 * 5 = 50\n",
      "Divide 10 / 5 = 2.0\n"
     ]
    }
   ],
   "source": [
    "if __name__ == \"__main__\":\n",
    "    # Set logging parameters\n",
    "    logging.basicConfig(filename='test.log', level=logging.DEBUG)\n",
    "    num_1 = 10\n",
    "    num_2 = 5\n",
    "    \n",
    "    add_result = add(num_1, num_2)\n",
    "    print('Add {} + {} = {}'.format(num_1, num_2, add_result))\n",
    "    \n",
    "    subtract_result = subtract(num_1, num_2)\n",
    "    print('Subtract {} - {} = {}'.format(num_1, num_2, subtract_result))\n",
    "    \n",
    "    multiply_result = multiply(num_1, num_2)\n",
    "    print('Multiply {} * {} = {}'.format(num_1, num_2, multiply_result))\n",
    "    \n",
    "    divide_result = divide(num_1, num_2)\n",
    "    print('Divide {} / {} = {}'.format(num_1, num_2, divide_result))\n",
    "    \n",
    "    # Logging levels\n",
    "    '''DEBUG: Detailed information, typically of interest only when diagnosing problems.    \n",
    "       INFO: Confirmation that things are working as expected.\n",
    "       WARNING: An indication that something unexpected happened, or indicative of some problem in the near future (e.g. ‘disk space low’). The software is still working as expected.\n",
    "       ERROR: Due to a more serious problem, the software has not been able to perform some function.\n",
    "       CRITICAL: A serious error, indicating that the program itself may be unable to continue running.'''\n",
    "    # By default Warning and above are captured\n",
    "    # Alternative\n",
    "    add_result = add(num_1, num_2)\n",
    "    logging.debug('Add {} + {} = {}'.format(num_1, num_2, add_result))\n",
    "    logging.debug('Subtract {} - {} = {}'.format(num_1, num_2, subtract_result))\n",
    "    logging.debug('Multiply {} * {} = {}'.format(num_1, num_2, multiply_result))\n",
    "    logging.debug('Divide {} / {} = {}'.format(num_1, num_2, divide_result))"
   ]
  },
  {
   "cell_type": "code",
   "execution_count": null,
   "metadata": {},
   "outputs": [],
   "source": []
  }
 ],
 "metadata": {
  "kernelspec": {
   "display_name": "Python 3",
   "language": "python",
   "name": "python3"
  },
  "language_info": {
   "codemirror_mode": {
    "name": "ipython",
    "version": 3
   },
   "file_extension": ".py",
   "mimetype": "text/x-python",
   "name": "python",
   "nbconvert_exporter": "python",
   "pygments_lexer": "ipython3",
   "version": "3.8.5"
  }
 },
 "nbformat": 4,
 "nbformat_minor": 4
}
