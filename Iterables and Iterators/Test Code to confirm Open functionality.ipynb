{
 "cells": [
  {
   "cell_type": "code",
   "execution_count": 2,
   "metadata": {},
   "outputs": [],
   "source": [
    "import itertools"
   ]
  },
  {
   "cell_type": "code",
   "execution_count": 3,
   "metadata": {},
   "outputs": [
    {
     "name": "stdout",
     "output_type": "stream",
     "text": [
      "# -*- coding: utf-8 -*-\n",
      "\n",
      "\"\"\"\n",
      "\n",
      "Created on Wed May 12 14:17:35 2021\n",
      "\n",
      "\n",
      "\n",
      "@author: souma\n",
      "\n",
      "\"\"\"\n",
      "\n",
      "# Iterable\n",
      "\n",
      "nums = [1,2,3]\n",
      "\n",
      "for num in nums:\n",
      "\n",
      "    print(num)\n",
      "\n"
     ]
    }
   ],
   "source": [
    "with open('Iterables and Iterators.py', 'r') as code_file:\n",
    "    first_10 = itertools.islice(code_file, 10)\n",
    "    for lines in first_10:\n",
    "        print(lines)"
   ]
  },
  {
   "cell_type": "code",
   "execution_count": null,
   "metadata": {},
   "outputs": [],
   "source": []
  }
 ],
 "metadata": {
  "kernelspec": {
   "display_name": "Python 3",
   "language": "python",
   "name": "python3"
  },
  "language_info": {
   "codemirror_mode": {
    "name": "ipython",
    "version": 3
   },
   "file_extension": ".py",
   "mimetype": "text/x-python",
   "name": "python",
   "nbconvert_exporter": "python",
   "pygments_lexer": "ipython3",
   "version": "3.8.5"
  }
 },
 "nbformat": 4,
 "nbformat_minor": 4
}
